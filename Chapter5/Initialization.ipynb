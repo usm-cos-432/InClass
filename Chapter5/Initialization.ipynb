{
  "nbformat": 4,
  "nbformat_minor": 0,
  "metadata": {
    "kernelspec": {
      "display_name": "Python 3",
      "language": "python",
      "name": "python3"
    },
    "language_info": {
      "codemirror_mode": {
        "name": "ipython",
        "version": 3
      },
      "file_extension": ".py",
      "mimetype": "text/x-python",
      "name": "python",
      "nbconvert_exporter": "python",
      "pygments_lexer": "ipython3",
      "version": "3.6.8"
    },
    "colab": {
      "name": "Code sample from the article.ipynb",
      "provenance": [],
      "include_colab_link": true
    }
  },
  "cells": [
    {
      "cell_type": "markdown",
      "metadata": {
        "id": "view-in-github",
        "colab_type": "text"
      },
      "source": [
        "<a href=\"https://colab.research.google.com/github/usm-cos-432/InClass/blob/master/Chapter5/Initialization.ipynb\" target=\"_parent\"><img src=\"https://colab.research.google.com/assets/colab-badge.svg\" alt=\"Open In Colab\"/></a>"
      ]
    },
    {
      "cell_type": "markdown",
      "metadata": {
        "id": "Et3X1lloa-61"
      },
      "source": [
        "# Code sample from the article\n",
        "\n",
        "This notebook contains the code used by the part of the article \"How to initialize a neural net?\""
      ]
    },
    {
      "cell_type": "code",
      "metadata": {
        "ExecuteTime": {
          "end_time": "2019-06-03T14:15:34.400048Z",
          "start_time": "2019-06-03T14:15:34.176770Z"
        },
        "id": "FMbpWWSla-62"
      },
      "source": [
        "import torch\n",
        "import torch.nn.functional as F\n",
        "import math"
      ],
      "execution_count": 1,
      "outputs": []
    },
    {
      "cell_type": "markdown",
      "metadata": {
        "id": "IjOcuwTJa-64"
      },
      "source": [
        "Why it's important to initialize neural net"
      ]
    },
    {
      "cell_type": "code",
      "metadata": {
        "ExecuteTime": {
          "end_time": "2019-06-03T14:15:34.459122Z",
          "start_time": "2019-06-03T14:15:34.401328Z"
        },
        "id": "SP0ZYKJAa-65",
        "outputId": "8c73fee8-b167-414f-cd14-ac7b30c0903a",
        "colab": {
          "base_uri": "https://localhost:8080/",
          "height": 119
        }
      },
      "source": [
        "# x is an input vector (random with mean of 0 and standard deviation of 1)\n",
        "x = torch.randn(512)\n",
        "\n",
        "# linear is a linear layer with output of size 512 (matrix 512x512)\n",
        "linear = torch.nn.Linear(512, 512)\n",
        "\n",
        "# we initialize the weight of the linear layer with random number (mean of 0 and standard deviation of 1)\n",
        "torch.nn.init.normal_(linear.weight, mean=0, std=1)\n",
        "\n",
        "# We simulate the foward pass of a neural net with 50 layers\n",
        "for i in range(50): \n",
        "    x = F.relu(linear(x))\n",
        "    \n",
        "    #We check the stats at some layers\n",
        "    if i % 10 == 0:\n",
        "        print(f'Layer {i}: {x.mean()},{x.std()} ')\n",
        "    \n",
        "# We get exploding gradient (not a number results)\n",
        "x.mean(),x.std()    "
      ],
      "execution_count": 2,
      "outputs": [
        {
          "output_type": "stream",
          "text": [
            "Layer 0: 10.136242866516113,14.793567657470703 \n",
            "Layer 10: 6122244669440.0,9260095242240.0 \n",
            "Layer 20: 3.071439381426366e+24,4.396173860335744e+24 \n",
            "Layer 30: inf,2.1618063320329143e+36 \n",
            "Layer 40: nan,nan \n"
          ],
          "name": "stdout"
        },
        {
          "output_type": "execute_result",
          "data": {
            "text/plain": [
              "(tensor(nan, grad_fn=<MeanBackward0>), tensor(nan, grad_fn=<StdBackward0>))"
            ]
          },
          "metadata": {
            "tags": []
          },
          "execution_count": 2
        }
      ]
    },
    {
      "cell_type": "code",
      "metadata": {
        "ExecuteTime": {
          "end_time": "2019-06-03T14:15:34.518926Z",
          "start_time": "2019-06-03T14:15:34.460394Z"
        },
        "id": "uhGZ37MWa-68",
        "outputId": "73f90cd1-6e21-41ef-a049-617d113764ed",
        "colab": {
          "base_uri": "https://localhost:8080/",
          "height": 136
        }
      },
      "source": [
        "# x is an input vector (random with mean of 0 and standard deviation of 1)\n",
        "x = torch.randn(512)\n",
        "\n",
        "# linear is a linear layer with output of size 512 (matrix 512x512)\n",
        "linear = torch.nn.Linear(512, 512)\n",
        "# we initialize the weight of the linear layer with random number\n",
        "torch.nn.init.normal_(linear.weight, mean=0, std=1)\n",
        "\n",
        "with torch.no_grad():\n",
        "# We multiply the random number by math.sqrt(2/512)\n",
        "    linear.weight = torch.nn.Parameter(linear.weight * math.sqrt(2/512))\n",
        "    \n",
        "optimizer = torch.optim.SGD(linear.parameters(), lr=0.01, momentum=0.9)\n",
        "\n",
        "\n",
        "# We simulate the foward pass of a neural net with 50 layers\n",
        "for i in range(50): \n",
        "    x = F.relu(linear(x))\n",
        "    \n",
        "    #We check the stats at some layers\n",
        "    if i % 10 == 0:\n",
        "        print(f'Layer {i}: {x.mean()},{x.std()} ')\n",
        "    \n",
        "# We get exploding gradient (not a number results)\n",
        "x.mean(),x.std()    "
      ],
      "execution_count": 3,
      "outputs": [
        {
          "output_type": "stream",
          "text": [
            "Layer 0: 0.5697970390319824,0.850481390953064 \n",
            "Layer 10: 0.7701798677444458,1.2404462099075317 \n",
            "Layer 20: 1.2086127996444702,1.9186478853225708 \n",
            "Layer 30: 2.131618022918701,3.409432888031006 \n",
            "Layer 40: 3.767212390899658,5.999336242675781 \n"
          ],
          "name": "stdout"
        },
        {
          "output_type": "execute_result",
          "data": {
            "text/plain": [
              "(tensor(6.3043, grad_fn=<MeanBackward0>),\n",
              " tensor(10.0289, grad_fn=<StdBackward0>))"
            ]
          },
          "metadata": {
            "tags": []
          },
          "execution_count": 3
        }
      ]
    },
    {
      "cell_type": "code",
      "metadata": {
        "ExecuteTime": {
          "end_time": "2019-06-03T14:15:34.538535Z",
          "start_time": "2019-06-03T14:15:34.520520Z"
        },
        "id": "zd-1F-HAa-6-",
        "outputId": "4aafb281-6597-4c49-c4d9-910a8ffa23d0",
        "colab": {
          "base_uri": "https://localhost:8080/",
          "height": 85
        }
      },
      "source": [
        "# Torch.randn generates numbers from a standard distribution (mean of 0 and std of 1)\n",
        "inputSize = 512\n",
        "x = torch.randn(inputSize)\n",
        "W = torch.randn(inputSize,inputSize)\n",
        "\n",
        "# Each element of the y vector will be calculated by the sum of 512 product \n",
        "# (each product is between a weight of W and an input of x, both independant and from normal distribution)\n",
        "y = x @ W\n",
        "\n",
        "# What is the variance of a sum of 512 elements (each from a stantard distrib with a variance of 1)?\n",
        "# Answer: it should be around 512\n",
        "print(f'Variance of y vector: {y.var()}')\n",
        "print(f'Mean of y vector: {y.mean()}')\n",
        "\n",
        "# We know that the standard deviation is the square root of the variance. \n",
        "# So standard deviation of y should be close to the square root of 512\n",
        "print(f'Standard deviation of y vector: {y.std()}.')\n",
        "print(f'Should be close to square root of vector size: {math.sqrt(512)}')"
      ],
      "execution_count": 5,
      "outputs": [
        {
          "output_type": "stream",
          "text": [
            "Variance of y vector: 477.5995788574219\n",
            "Mean of y vector: 0.07702547311782837\n",
            "Standard deviation of y vector: 21.85405158996582.\n",
            "Should be close to square root of vector size: 22.627416997969522\n"
          ],
          "name": "stdout"
        }
      ]
    },
    {
      "cell_type": "code",
      "metadata": {
        "id": "40HnNjwVbhZv"
      },
      "source": [
        ""
      ],
      "execution_count": null,
      "outputs": []
    }
  ]
}