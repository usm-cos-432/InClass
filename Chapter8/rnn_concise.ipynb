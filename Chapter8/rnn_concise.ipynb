{
  "nbformat": 4,
  "nbformat_minor": 0,
  "metadata": {
    "accelerator": "GPU",
    "kernelspec": {
      "display_name": "Python 3",
      "name": "python3"
    },
    "language_info": {
      "name": "python"
    },
    "colab": {
      "name": "rnn_concise.ipynb",
      "provenance": [],
      "include_colab_link": true
    }
  },
  "cells": [
    {
      "cell_type": "markdown",
      "metadata": {
        "id": "view-in-github",
        "colab_type": "text"
      },
      "source": [
        "<a href=\"https://colab.research.google.com/github/usm-cos-432/InClass/blob/master/Chapter8/rnn_concise.ipynb\" target=\"_parent\"><img src=\"https://colab.research.google.com/assets/colab-badge.svg\" alt=\"Open In Colab\"/></a>"
      ]
    },
    {
      "cell_type": "markdown",
      "metadata": {
        "id": "y5zcEpG5DJRG"
      },
      "source": [
        "The following additional libraries are needed to run this\n",
        "notebook. Note that running on Colab is experimental, please report a Github\n",
        "issue if you have any problem."
      ]
    },
    {
      "cell_type": "code",
      "metadata": {
        "id": "X3TaQMzeDJRI"
      },
      "source": [
        "!pip install d2l==0.14.4\n"
      ],
      "execution_count": null,
      "outputs": []
    },
    {
      "cell_type": "markdown",
      "metadata": {
        "origin_pos": 0,
        "id": "Q5WKtjVzDJRO"
      },
      "source": [
        "# Concise Implementation of Recurrent Neural Networks\n",
        "\n",
        "While :numref:`sec_rnn_scratch` was instructive to see how RNNs are implemented,\n",
        "this is not convenient or fast.\n",
        "This section will show how to implement the same language model more efficiently\n",
        "using functions provided by high-level APIs\n",
        "of a deep learning framework.\n",
        "We begin as before by reading the time machine dataset.\n"
      ]
    },
    {
      "cell_type": "code",
      "metadata": {
        "origin_pos": 2,
        "tab": [
          "pytorch"
        ],
        "id": "D_jFZc2YDJRP"
      },
      "source": [
        "from d2l import torch as d2l\n",
        "import torch\n",
        "from torch import nn\n",
        "from torch.nn import functional as F\n",
        "\n",
        "batch_size, num_steps = 32, 35\n",
        "train_iter, vocab = d2l.load_data_time_machine(batch_size, num_steps)"
      ],
      "execution_count": null,
      "outputs": []
    },
    {
      "cell_type": "markdown",
      "metadata": {
        "origin_pos": 3,
        "id": "CMnzzYb2DJRS"
      },
      "source": [
        "## Defining the Model\n",
        "\n",
        "High-level APIs provide implementations of recurrent neural networks.\n",
        "We construct the recurrent neural network layer `rnn_layer` with a single hidden layer and 256 hidden units.\n",
        "In fact, we have not even discussed yet what it means to have multiple layers---this will happen in :numref:`sec_deep_rnn`.\n",
        "For now, suffice it to say that multiple layers simply amount to the output of one layer of RNN being used as the input for the next layer of RNN.\n"
      ]
    },
    {
      "cell_type": "code",
      "metadata": {
        "origin_pos": 5,
        "tab": [
          "pytorch"
        ],
        "id": "nR6FLDACDJRT"
      },
      "source": [
        "num_hiddens = 256\n",
        "rnn_layer = nn.RNN(len(vocab), num_hiddens)"
      ],
      "execution_count": null,
      "outputs": []
    },
    {
      "cell_type": "markdown",
      "metadata": {
        "origin_pos": 7,
        "tab": [
          "pytorch"
        ],
        "id": "-9y0K6pKDJRW"
      },
      "source": [
        "We use a tensor to initialize the hidden state,\n",
        "whose shape is\n",
        "(number of hidden layers, batch size, number of hidden units).\n"
      ]
    },
    {
      "cell_type": "code",
      "metadata": {
        "origin_pos": 9,
        "tab": [
          "pytorch"
        ],
        "id": "SVnLGxpLDJRW"
      },
      "source": [
        "state = torch.zeros((1, batch_size, num_hiddens))\n",
        "state.shape"
      ],
      "execution_count": null,
      "outputs": []
    },
    {
      "cell_type": "markdown",
      "metadata": {
        "origin_pos": 10,
        "id": "fnHC2sQFDJRa"
      },
      "source": [
        "With a hidden state and an input,\n",
        "we can compute the output with\n",
        "the updated hidden state.\n",
        "It should be emphasized that\n",
        "the \"output\" (`Y`) of `rnn_layer`\n",
        "does *not* involve computation of output layers:\n",
        "it refers to \n",
        "the hidden state at *each* time step,\n",
        "and they can be used as the input\n",
        "to the subsequent output layer.\n"
      ]
    },
    {
      "cell_type": "code",
      "metadata": {
        "origin_pos": 13,
        "tab": [
          "pytorch"
        ],
        "id": "oHcJ-_pWDJRa"
      },
      "source": [
        "X = torch.rand(size=(num_steps, batch_size, len(vocab)))\n",
        "Y, state_new = rnn_layer(X, state)\n",
        "Y.shape, state_new.shape"
      ],
      "execution_count": null,
      "outputs": []
    },
    {
      "cell_type": "code",
      "metadata": {
        "id": "v2_AA9LqDNwH"
      },
      "source": [
        "print(X.shape)\n",
        "print(X.T.shape)"
      ],
      "execution_count": null,
      "outputs": []
    },
    {
      "cell_type": "code",
      "metadata": {
        "id": "ceARDwpNF-vK"
      },
      "source": [
        "rnn_layer?"
      ],
      "execution_count": null,
      "outputs": []
    },
    {
      "cell_type": "code",
      "metadata": {
        "id": "B0Nh6XYxDr0I"
      },
      "source": [
        "X,y = next(iter(train_iter))\n",
        "Xr = F.one_hot(X.T.long())\n",
        "Xr = Xr.to(torch.float32)\n",
        "rnn_layer2 = nn.RNN(len(vocab), num_hiddens)\n",
        "Y,state1 = rnn_layer2(Xr,state)\n",
        "print(Y.shape)\n",
        "print(Y.shape[-1])\n",
        "Yr = Y.reshape((-1, Y.shape[-1]))\n",
        "Yr.size()"
      ],
      "execution_count": null,
      "outputs": []
    },
    {
      "cell_type": "markdown",
      "metadata": {
        "origin_pos": 14,
        "id": "Mj0vCS8gDJRe"
      },
      "source": [
        "Similar to :numref:`sec_rnn_scratch`,\n",
        "we define an `RNNModel` class \n",
        "for a complete RNN model.\n",
        "Note that `rnn_layer` only contains the hidden recurrent layers, we need to create a separate output layer.\n"
      ]
    },
    {
      "cell_type": "code",
      "metadata": {
        "origin_pos": 16,
        "tab": [
          "pytorch"
        ],
        "id": "CMlYjMyNDJRf"
      },
      "source": [
        "#@save\n",
        "class RNNModel(nn.Module):\n",
        "    \"\"\"The RNN model.\"\"\"\n",
        "    def __init__(self, rnn_layer, vocab_size, **kwargs):\n",
        "        super(RNNModel, self).__init__(**kwargs)\n",
        "        self.rnn = rnn_layer\n",
        "        self.vocab_size = vocab_size\n",
        "        self.num_hiddens = self.rnn.hidden_size\n",
        "        # If the RNN is bidirectional (to be introduced later),\n",
        "        # `num_directions` should be 2, else it should be 1.\n",
        "        if not self.rnn.bidirectional:\n",
        "            self.num_directions = 1\n",
        "            self.linear = nn.Linear(self.num_hiddens, self.vocab_size)\n",
        "        else:\n",
        "            self.num_directions = 2\n",
        "            self.linear = nn.Linear(self.num_hiddens * 2, self.vocab_size)\n",
        "\n",
        "    def forward(self, inputs, state):\n",
        "        X = F.one_hot(inputs.T.long(), self.vocab_size)\n",
        "        X = X.to(torch.float32)\n",
        "        Y, state = self.rnn(X, state)\n",
        "        # The fully connected layer will first change the shape of `Y` to\n",
        "        # (`num_steps` * `batch_size`, `num_hiddens`). Its output shape is\n",
        "        # (`num_steps` * `batch_size`, `vocab_size`).\n",
        "        output = self.linear(Y.reshape((-1, Y.shape[-1])))\n",
        "        return output, state\n",
        "\n",
        "    def begin_state(self, device, batch_size=1):\n",
        "        if not isinstance(self.rnn, nn.LSTM):\n",
        "            # `nn.GRU` takes a tensor as hidden state\n",
        "            return  torch.zeros((self.num_directions * self.rnn.num_layers,\n",
        "                                 batch_size, self.num_hiddens), \n",
        "                                device=device)\n",
        "        else:\n",
        "            # `nn.LSTM` takes a tuple of hidden states\n",
        "            return (torch.zeros((\n",
        "                self.num_directions * self.rnn.num_layers,\n",
        "                batch_size, self.num_hiddens), device=device),\n",
        "                    torch.zeros((\n",
        "                        self.num_directions * self.rnn.num_layers,\n",
        "                        batch_size, self.num_hiddens), device=device))"
      ],
      "execution_count": null,
      "outputs": []
    },
    {
      "cell_type": "markdown",
      "metadata": {
        "origin_pos": 17,
        "id": "nc3-bklWDJRi"
      },
      "source": [
        "## Training and Predicting\n",
        "\n",
        "Before training the model, let us make a prediction with the a model that has random weights.\n"
      ]
    },
    {
      "cell_type": "code",
      "metadata": {
        "origin_pos": 19,
        "tab": [
          "pytorch"
        ],
        "id": "paW5Jl0-DJRi"
      },
      "source": [
        "device = d2l.try_gpu()\n",
        "model = RNNModel(rnn_layer, vocab_size=len(vocab))\n",
        "model = model.to(device)\n",
        "d2l.predict_ch8('time traveller', 10, model, vocab, device)"
      ],
      "execution_count": null,
      "outputs": []
    },
    {
      "cell_type": "markdown",
      "metadata": {
        "origin_pos": 20,
        "id": "tOV4EnbBDJRl"
      },
      "source": [
        "As is quite obvious, this model does not work at all. Next, we call `train_ch8` with the same hyperparameters defined in :numref:`sec_rnn_scratch` and train our model with high-level APIs.\n"
      ]
    },
    {
      "cell_type": "code",
      "metadata": {
        "origin_pos": 21,
        "tab": [
          "pytorch"
        ],
        "id": "rdkJcVOxDJRl"
      },
      "source": [
        "num_epochs, lr = 500, 1\n",
        "d2l.train_ch8(model, train_iter, vocab, lr, num_epochs, device)"
      ],
      "execution_count": null,
      "outputs": []
    },
    {
      "cell_type": "markdown",
      "metadata": {
        "origin_pos": 22,
        "id": "Dcqp_b22DJRo"
      },
      "source": [
        "Compared with the last section, this model achieves comparable perplexity,\n",
        "albeit within a shorter period of time, due to the code being more optimized by\n",
        "high-level APIs of the deep learning framework.\n",
        "\n",
        "\n",
        "## Summary\n",
        "\n",
        "* High-level APIs of the deep learning framework provides an implementation of the RNN layer.\n",
        "* The RNN layer of high-level APIs returns an output and an updated hidden state, where the output does not involve output layer computation.\n",
        "* Using high-level APIs leads to faster RNN training than using its implementation from scratch.\n",
        "\n",
        "## Exercises\n",
        "\n",
        "1. Can you make the RNN model overfit using the high-level APIs?\n",
        "1. What happens if you increase the number of hidden layers in the RNN model? Can you make the model work?\n",
        "1. Implement the autoregressive model of :numref:`sec_sequence` using an RNN.\n"
      ]
    },
    {
      "cell_type": "markdown",
      "metadata": {
        "origin_pos": 24,
        "tab": [
          "pytorch"
        ],
        "id": "aUdvAZl9DJRo"
      },
      "source": [
        "[Discussions](https://discuss.d2l.ai/t/1053)\n"
      ]
    }
  ]
}