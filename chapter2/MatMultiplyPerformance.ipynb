{
  "nbformat": 4,
  "nbformat_minor": 0,
  "metadata": {
    "kernelspec": {
      "display_name": "Python [conda env:anaconda3-d2l-pytorch] *",
      "language": "python",
      "name": "conda-env-anaconda3-d2l-pytorch-py"
    },
    "language_info": {
      "codemirror_mode": {
        "name": "ipython",
        "version": 3
      },
      "file_extension": ".py",
      "mimetype": "text/x-python",
      "name": "python",
      "nbconvert_exporter": "python",
      "pygments_lexer": "ipython3",
      "version": "3.7.7"
    },
    "colab": {
      "name": "MatMultiplyPerformance.ipynb",
      "provenance": [],
      "collapsed_sections": [],
      "include_colab_link": true
    },
    "accelerator": "GPU"
  },
  "cells": [
    {
      "cell_type": "markdown",
      "metadata": {
        "id": "view-in-github",
        "colab_type": "text"
      },
      "source": [
        "<a href=\"https://colab.research.google.com/github/usm-cos-432/InClass/blob/master/chapter2/MatMultiplyPerformance.ipynb\" target=\"_parent\"><img src=\"https://colab.research.google.com/assets/colab-badge.svg\" alt=\"Open In Colab\"/></a>"
      ]
    },
    {
      "cell_type": "markdown",
      "metadata": {
        "id": "ff-QqSmpyC_y",
        "colab_type": "text"
      },
      "source": [
        "### In Class Exercise\n",
        "\n",
        "Make sure you understand the code, then run on Google Colab\n",
        "\n",
        "Be prepared to explain the how the different vectorization and pytorch techniques contribution to performance\n",
        "\n",
        "\n",
        "\n",
        "code adapted from [blog](https://sanjayasubedi.com.np/python/efficient-matrix-multiplication-in-python/) "
      ]
    },
    {
      "cell_type": "code",
      "metadata": {
        "id": "ShOF5C7ETk1t",
        "colab_type": "code",
        "colab": {}
      },
      "source": [
        "import torch, numpy as np, datetime\n",
        "cuda = torch.device('cuda')\n",
        "cpu = torch.device('cpu')"
      ],
      "execution_count": null,
      "outputs": []
    },
    {
      "cell_type": "code",
      "metadata": {
        "id": "ktror4pmTk1y",
        "colab_type": "code",
        "colab": {}
      },
      "source": [
        "import numpy as np\n",
        "\n",
        "a = np.random.normal(size=(2000, 784)).astype('float32')\n",
        "b = np.random.normal(size=(784, 10)).astype('float32')\n",
        "\n",
        "expected = np.matmul(a, b)"
      ],
      "execution_count": null,
      "outputs": []
    },
    {
      "cell_type": "code",
      "metadata": {
        "id": "oZmjrXtHTk12",
        "colab_type": "code",
        "colab": {}
      },
      "source": [
        "def py_matmul1(a, b):\n",
        "    ra, ca = a.shape\n",
        "    rb, cb = b.shape\n",
        "    assert ca == rb, f\"{ca} != {rb}\"\n",
        "    \n",
        "    output = np.zeros(shape=(ra, cb))\n",
        "    for i in range(ra):\n",
        "        for j in range(cb):\n",
        "            for k in range(rb):\n",
        "                output[i, j] += a[i, k] * b[k, j]\n",
        "                \n",
        "    return output\n",
        "\n",
        "%time result = py_matmul1(a, b)\n",
        "assert result.shape == expected.shape\n",
        "assert np.allclose(result, expected, rtol=1e-01), (result, expected)"
      ],
      "execution_count": null,
      "outputs": []
    },
    {
      "cell_type": "code",
      "metadata": {
        "id": "qFqfqeCATk15",
        "colab_type": "code",
        "colab": {}
      },
      "source": [
        "def py_matmul2(a, b):\n",
        "    ra, ca = a.shape\n",
        "    rb, cb = b.shape\n",
        "    assert ca == rb, f\"{ca} != {rb}\"\n",
        "    \n",
        "    output = np.zeros(shape=(ra, cb))\n",
        "    for i in range(ra):\n",
        "        for j in range(cb):\n",
        "\t        # we replaced the loop with dot product\n",
        "            output[i, j] = np.dot(a[i], b[:,j])\n",
        "                \n",
        "    return output\n",
        "\n",
        "%time result = py_matmul2(a, b)\n",
        "assert result.shape == expected.shape\n",
        "assert np.allclose(result, expected, rtol=1e-01), (result, expected)"
      ],
      "execution_count": null,
      "outputs": []
    },
    {
      "cell_type": "code",
      "metadata": {
        "id": "eo11dorSTk18",
        "colab_type": "code",
        "colab": {}
      },
      "source": [
        "def py_matmul3(a, b):\n",
        "    ra, ca = a.shape\n",
        "    rb, cb = b.shape\n",
        "    assert ca == rb, f\"{ca} != {rb}\"\n",
        "    \n",
        "    output = np.zeros(shape=(ra, cb))\n",
        "    for i in range(ra):\n",
        "        output[i] = np.dot(a[i], b)\n",
        "        \n",
        "                \n",
        "    return output\n",
        "\n",
        "%time result = py_matmul3(a, b)\n",
        "assert result.shape == expected.shape\n",
        "assert np.allclose(result, expected, rtol=1e-01), (result, expected)"
      ],
      "execution_count": null,
      "outputs": []
    },
    {
      "cell_type": "code",
      "metadata": {
        "id": "hmggUi9VTk1_",
        "colab_type": "code",
        "colab": {}
      },
      "source": [
        "def py_matmul4(a, b):\n",
        "    ra, ca = a.shape\n",
        "    rb, cb = b.shape\n",
        "    assert ca == rb, f\"{ca} != {rb}\"\n",
        "    \n",
        "    return np.matmul(a, b)\n",
        "    \n",
        "\n",
        "%time result = py_matmul4(a, b)\n",
        "assert result.shape == expected.shape\n",
        "assert np.allclose(result, expected, rtol=1e-01), (result, expected)"
      ],
      "execution_count": null,
      "outputs": []
    },
    {
      "cell_type": "markdown",
      "metadata": {
        "id": "eiwxjVHS2hot",
        "colab_type": "text"
      },
      "source": [
        "**The Runtime type must support GPU inorder for this last bit of code to run**"
      ]
    },
    {
      "cell_type": "code",
      "metadata": {
        "id": "Rocr-B4jTk2B",
        "colab_type": "code",
        "colab": {}
      },
      "source": [
        "def py_matmul5(a, b):\n",
        "    ra, ca = a.shape\n",
        "    rb, cb = b.shape\n",
        "    assert ca == rb, f\"{ca} != {rb}\"\n",
        "    \n",
        "    return torch.matmul(a, b)\n",
        "    \n",
        "t_a = torch.tensor(a).to(cuda)\n",
        "t_b = torch.tensor(b).to(cuda)\n",
        "torch.cuda.synchronize()\n",
        "%time result = py_matmul5(t_a, t_b)\n",
        "assert result.shape == expected.shape\n",
        "result_cpu = result.cpu()\n",
        "assert np.allclose(result_cpu, expected, rtol=1e-01), (result_cpu, expected)"
      ],
      "execution_count": null,
      "outputs": []
    }
  ]
}