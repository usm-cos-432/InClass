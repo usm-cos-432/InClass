{
  "nbformat": 4,
  "nbformat_minor": 0,
  "metadata": {
    "kernelspec": {
      "display_name": "Python [conda env:anaconda3-d2l-pytorch] *",
      "language": "python",
      "name": "conda-env-anaconda3-d2l-pytorch-py"
    },
    "language_info": {
      "codemirror_mode": {
        "name": "ipython",
        "version": 3
      },
      "file_extension": ".py",
      "mimetype": "text/x-python",
      "name": "python",
      "nbconvert_exporter": "python",
      "pygments_lexer": "ipython3",
      "version": "3.7.7"
    },
    "colab": {
      "name": "MatMultiplyPerformance.ipynb",
      "provenance": [],
      "include_colab_link": true
    },
    "accelerator": "GPU"
  },
  "cells": [
    {
      "cell_type": "markdown",
      "metadata": {
        "id": "view-in-github",
        "colab_type": "text"
      },
      "source": [
        "<a href=\"https://colab.research.google.com/github/usm-cos-432/InClass/blob/master/chapter2/MatMultiplyPerformance.ipynb\" target=\"_parent\"><img src=\"https://colab.research.google.com/assets/colab-badge.svg\" alt=\"Open In Colab\"/></a>"
      ]
    },
    {
      "cell_type": "markdown",
      "metadata": {
        "id": "ff-QqSmpyC_y",
        "colab_type": "text"
      },
      "source": [
        "### In Class Exercise\n",
        "\n",
        "Make sure you understand the code, then run on Google Colab\n",
        "\n",
        "Be prepared to explain the how the different vectorization and pytorch techniques contribution to performance\n",
        "\n",
        "\n",
        "\n",
        "code adapted from [blog](https://sanjayasubedi.com.np/python/efficient-matrix-multiplication-in-python/) "
      ]
    },
    {
      "cell_type": "code",
      "metadata": {
        "id": "ShOF5C7ETk1t",
        "colab_type": "code",
        "colab": {}
      },
      "source": [
        "import torch, numpy as np, datetime\n",
        "cuda = torch.device('cuda')\n",
        "cpu = torch.device('cpu')"
      ],
      "execution_count": null,
      "outputs": []
    },
    {
      "cell_type": "code",
      "metadata": {
        "id": "ktror4pmTk1y",
        "colab_type": "code",
        "colab": {}
      },
      "source": [
        "import numpy as np\n",
        "\n",
        "a = np.random.normal(size=(2000, 784)).astype('float32')\n",
        "b = np.random.normal(size=(784, 10)).astype('float32')\n",
        "\n",
        "expected = np.matmul(a, b)"
      ],
      "execution_count": null,
      "outputs": []
    },
    {
      "cell_type": "code",
      "metadata": {
        "id": "oZmjrXtHTk12",
        "colab_type": "code",
        "colab": {
          "base_uri": "https://localhost:8080/",
          "height": 51
        },
        "outputId": "3c31200e-5880-4c12-c6f9-998bf7a76e51"
      },
      "source": [
        "def py_matmul1(a, b):\n",
        "    ra, ca = a.shape\n",
        "    rb, cb = b.shape\n",
        "    assert ca == rb, f\"{ca} != {rb}\"\n",
        "    \n",
        "    output = np.zeros(shape=(ra, cb))\n",
        "    for i in range(ra):\n",
        "        for j in range(cb):\n",
        "            for k in range(rb):\n",
        "                output[i, j] += a[i, k] * b[k, j]\n",
        "                \n",
        "    return output\n",
        "\n",
        "%time result = py_matmul1(a, b)\n",
        "assert result.shape == expected.shape\n",
        "assert np.allclose(result, expected, rtol=1e-01), (result, expected)"
      ],
      "execution_count": null,
      "outputs": [
        {
          "output_type": "stream",
          "text": [
            "CPU times: user 13.7 s, sys: 1.86 ms, total: 13.7 s\n",
            "Wall time: 13.7 s\n"
          ],
          "name": "stdout"
        }
      ]
    },
    {
      "cell_type": "code",
      "metadata": {
        "id": "qFqfqeCATk15",
        "colab_type": "code",
        "colab": {
          "base_uri": "https://localhost:8080/",
          "height": 51
        },
        "outputId": "fa853667-d1a7-4d35-8d4c-fa0c00375871"
      },
      "source": [
        "def py_matmul2(a, b):\n",
        "    ra, ca = a.shape\n",
        "    rb, cb = b.shape\n",
        "    assert ca == rb, f\"{ca} != {rb}\"\n",
        "    \n",
        "    output = np.zeros(shape=(ra, cb))\n",
        "    for i in range(ra):\n",
        "        for j in range(cb):\n",
        "\t        # we replaced the loop with dot product\n",
        "            output[i, j] = np.dot(a[i], b[:,j])\n",
        "                \n",
        "    return output\n",
        "\n",
        "%time result = py_matmul2(a, b)\n",
        "assert result.shape == expected.shape\n",
        "assert np.allclose(result, expected, rtol=1e-01), (result, expected)"
      ],
      "execution_count": null,
      "outputs": [
        {
          "output_type": "stream",
          "text": [
            "CPU times: user 29.1 ms, sys: 0 ns, total: 29.1 ms\n",
            "Wall time: 29.1 ms\n"
          ],
          "name": "stdout"
        }
      ]
    },
    {
      "cell_type": "code",
      "metadata": {
        "id": "eo11dorSTk18",
        "colab_type": "code",
        "colab": {
          "base_uri": "https://localhost:8080/",
          "height": 51
        },
        "outputId": "801d27d4-dfc4-4880-8ca0-0c5e7c457ebc"
      },
      "source": [
        "def py_matmul3(a, b):\n",
        "    ra, ca = a.shape\n",
        "    rb, cb = b.shape\n",
        "    assert ca == rb, f\"{ca} != {rb}\"\n",
        "    \n",
        "    output = np.zeros(shape=(ra, cb))\n",
        "    for i in range(ra):\n",
        "        output[i] = np.dot(a[i], b)\n",
        "        \n",
        "                \n",
        "    return output\n",
        "\n",
        "%time result = py_matmul3(a, b)\n",
        "assert result.shape == expected.shape\n",
        "assert np.allclose(result, expected, rtol=1e-01), (result, expected)"
      ],
      "execution_count": null,
      "outputs": [
        {
          "output_type": "stream",
          "text": [
            "CPU times: user 5.05 ms, sys: 1.02 ms, total: 6.07 ms\n",
            "Wall time: 9.09 ms\n"
          ],
          "name": "stdout"
        }
      ]
    },
    {
      "cell_type": "code",
      "metadata": {
        "id": "hmggUi9VTk1_",
        "colab_type": "code",
        "colab": {
          "base_uri": "https://localhost:8080/",
          "height": 51
        },
        "outputId": "6a293c1f-1f90-420a-e756-e88030a1cb84"
      },
      "source": [
        "def py_matmul4(a, b):\n",
        "    ra, ca = a.shape\n",
        "    rb, cb = b.shape\n",
        "    assert ca == rb, f\"{ca} != {rb}\"\n",
        "    \n",
        "    return np.matmul(a, b)\n",
        "    \n",
        "\n",
        "%time result = py_matmul4(a, b)\n",
        "assert result.shape == expected.shape\n",
        "assert np.allclose(result, expected, rtol=1e-01), (result, expected)"
      ],
      "execution_count": null,
      "outputs": [
        {
          "output_type": "stream",
          "text": [
            "CPU times: user 5.65 ms, sys: 0 ns, total: 5.65 ms\n",
            "Wall time: 2.87 ms\n"
          ],
          "name": "stdout"
        }
      ]
    },
    {
      "cell_type": "code",
      "metadata": {
        "id": "Rocr-B4jTk2B",
        "colab_type": "code",
        "colab": {
          "base_uri": "https://localhost:8080/",
          "height": 51
        },
        "outputId": "db8db105-149c-4c50-fe84-d729db6db116"
      },
      "source": [
        "def py_matmul5(a, b):\n",
        "    ra, ca = a.shape\n",
        "    rb, cb = b.shape\n",
        "    assert ca == rb, f\"{ca} != {rb}\"\n",
        "    \n",
        "    return torch.matmul(a, b)\n",
        "    \n",
        "t_a = torch.tensor(a).to(cuda)\n",
        "t_b = torch.tensor(b).to(cuda)\n",
        "torch.cuda.synchronize()\n",
        "%time result = py_matmul5(t_a, t_b)\n",
        "assert result.shape == expected.shape\n",
        "result_cpu = result.cpu()\n",
        "assert np.allclose(result_cpu, expected, rtol=1e-01), (result_cpu, expected)"
      ],
      "execution_count": null,
      "outputs": [
        {
          "output_type": "stream",
          "text": [
            "CPU times: user 145 µs, sys: 0 ns, total: 145 µs\n",
            "Wall time: 151 µs\n"
          ],
          "name": "stdout"
        }
      ]
    }
  ]
}