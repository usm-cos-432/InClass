{
  "nbformat": 4,
  "nbformat_minor": 0,
  "metadata": {
    "kernelspec": {
      "display_name": "Python [conda env:anaconda3-d2l] *",
      "language": "python",
      "name": "conda-env-anaconda3-d2l-py"
    },
    "language_info": {
      "codemirror_mode": {
        "name": "ipython",
        "version": 3
      },
      "file_extension": ".py",
      "mimetype": "text/x-python",
      "name": "python",
      "nbconvert_exporter": "python",
      "pygments_lexer": "ipython3",
      "version": "3.7.7"
    },
    "colab": {
      "name": "NumpyPandas2.ipynb",
      "provenance": [],
      "include_colab_link": true
    }
  },
  "cells": [
    {
      "cell_type": "markdown",
      "metadata": {
        "id": "view-in-github",
        "colab_type": "text"
      },
      "source": [
        "<a href=\"https://colab.research.google.com/github/usm-cos-432/InClass/blob/master/chapter2/NumpyPandas2.ipynb\" target=\"_parent\"><img src=\"https://colab.research.google.com/assets/colab-badge.svg\" alt=\"Open In Colab\"/></a>"
      ]
    },
    {
      "cell_type": "code",
      "metadata": {
        "id": "2Qjiko-G5li6",
        "colab_type": "code",
        "colab": {}
      },
      "source": [
        "import pandas as pd\n",
        "import numpy as np"
      ],
      "execution_count": null,
      "outputs": []
    },
    {
      "cell_type": "code",
      "metadata": {
        "id": "BmTNj1bD5ljA",
        "colab_type": "code",
        "colab": {}
      },
      "source": [
        "df = pd.read_csv(\"http://www.cs.usm.maine.edu/~macleod/courses/cos432/Automobile_data.csv\")"
      ],
      "execution_count": null,
      "outputs": []
    },
    {
      "cell_type": "markdown",
      "metadata": {
        "id": "AkifoZwN5ljG",
        "colab_type": "text"
      },
      "source": [
        "### **Display the first 5 records**"
      ]
    },
    {
      "cell_type": "code",
      "metadata": {
        "id": "R-nlLKV15ljG",
        "colab_type": "code",
        "colab": {}
      },
      "source": [
        ""
      ],
      "execution_count": null,
      "outputs": []
    },
    {
      "cell_type": "markdown",
      "metadata": {
        "id": "WkexDRZP5ljK",
        "colab_type": "text"
      },
      "source": [
        "### **Find the most expensive car**"
      ]
    },
    {
      "cell_type": "code",
      "metadata": {
        "id": "Rq5dc_V25ljL",
        "colab_type": "code",
        "colab": {}
      },
      "source": [
        ""
      ],
      "execution_count": null,
      "outputs": []
    },
    {
      "cell_type": "markdown",
      "metadata": {
        "id": "7390t9cB5ljO",
        "colab_type": "text"
      },
      "source": [
        "### **Drop rows that have nan values**"
      ]
    },
    {
      "cell_type": "code",
      "metadata": {
        "id": "Au2cfcBo5ljP",
        "colab_type": "code",
        "colab": {}
      },
      "source": [
        ""
      ],
      "execution_count": null,
      "outputs": []
    },
    {
      "cell_type": "code",
      "metadata": {
        "id": "QepnnW755ljT",
        "colab_type": "code",
        "colab": {}
      },
      "source": [
        "keepColumns = [ 'wheel-base', \"length\", 'horsepower', 'average-mileage']"
      ],
      "execution_count": null,
      "outputs": []
    },
    {
      "cell_type": "markdown",
      "metadata": {
        "id": "8Qlg2YtQ5ljX",
        "colab_type": "text"
      },
      "source": [
        "### **Assign the variable y to the 'price' column and assign variable X to the columns listed in keepColumns"
      ]
    },
    {
      "cell_type": "code",
      "metadata": {
        "id": "156lTKwY5ljY",
        "colab_type": "code",
        "colab": {}
      },
      "source": [
        ""
      ],
      "execution_count": null,
      "outputs": []
    },
    {
      "cell_type": "markdown",
      "metadata": {
        "id": "GzDGQCHQ5ljb",
        "colab_type": "text"
      },
      "source": [
        "### **Display the type of X and the type of X.values**"
      ]
    },
    {
      "cell_type": "code",
      "metadata": {
        "id": "tAHtgsJX5ljb",
        "colab_type": "code",
        "colab": {}
      },
      "source": [
        ""
      ],
      "execution_count": null,
      "outputs": []
    },
    {
      "cell_type": "markdown",
      "metadata": {
        "id": "pw_43MU05ljf",
        "colab_type": "text"
      },
      "source": [
        "### **Assign w to equal the array [491.2  -9.1 190.9 111.1] and b to equal -54567.9**"
      ]
    },
    {
      "cell_type": "code",
      "metadata": {
        "id": "Rs80LzSc5ljf",
        "colab_type": "code",
        "colab": {}
      },
      "source": [
        ""
      ],
      "execution_count": null,
      "outputs": []
    },
    {
      "cell_type": "markdown",
      "metadata": {
        "id": "qjmESX5h5ljh",
        "colab_type": "text"
      },
      "source": [
        "### **Print the shape of X.values and the shape of w** "
      ]
    },
    {
      "cell_type": "code",
      "metadata": {
        "id": "QNluv2_h5lji",
        "colab_type": "code",
        "colab": {}
      },
      "source": [
        ""
      ],
      "execution_count": null,
      "outputs": []
    },
    {
      "cell_type": "markdown",
      "metadata": {
        "id": "6WdIwuzB5ljo",
        "colab_type": "text"
      },
      "source": [
        "### **Now, using numpy, multiply X.values times w  and assign result to varible estP**\n",
        "### **.... make sure you respect the rules of matrix multiplication !**\n"
      ]
    },
    {
      "cell_type": "code",
      "metadata": {
        "id": "KVL6bD5f5ljp",
        "colab_type": "code",
        "colab": {}
      },
      "source": [
        ""
      ],
      "execution_count": null,
      "outputs": []
    },
    {
      "cell_type": "markdown",
      "metadata": {
        "id": "ngF8kg1P5ljv",
        "colab_type": "text"
      },
      "source": [
        "###  *Add the scalar value b to all elements of the array estP (what technique helps here?) **"
      ]
    },
    {
      "cell_type": "code",
      "metadata": {
        "id": "eGi8T8Uy5ljw",
        "colab_type": "code",
        "colab": {}
      },
      "source": [
        ""
      ],
      "execution_count": null,
      "outputs": []
    },
    {
      "cell_type": "markdown",
      "metadata": {
        "id": "S4nVQYOR5ljy",
        "colab_type": "text"
      },
      "source": [
        "### **Calculate the absolute value of the difference between estP and the value y**"
      ]
    },
    {
      "cell_type": "code",
      "metadata": {
        "id": "G6UTnADN5lj1",
        "colab_type": "code",
        "colab": {}
      },
      "source": [
        ""
      ],
      "execution_count": null,
      "outputs": []
    },
    {
      "cell_type": "markdown",
      "metadata": {
        "id": "n8iDljXC5lj5",
        "colab_type": "text"
      },
      "source": [
        "### **Sum up the above differences and assign to the variable loss**"
      ]
    },
    {
      "cell_type": "code",
      "metadata": {
        "id": "7HPU4n3A5lj6",
        "colab_type": "code",
        "colab": {}
      },
      "source": [
        ""
      ],
      "execution_count": null,
      "outputs": []
    },
    {
      "cell_type": "markdown",
      "metadata": {
        "id": "cidPGgpd5lj8",
        "colab_type": "text"
      },
      "source": [
        "### **Any thoughts on what we accomplished here ?**"
      ]
    },
    {
      "cell_type": "code",
      "metadata": {
        "id": "EGvKjZAO5lj8",
        "colab_type": "code",
        "colab": {}
      },
      "source": [
        ""
      ],
      "execution_count": null,
      "outputs": []
    }
  ]
}