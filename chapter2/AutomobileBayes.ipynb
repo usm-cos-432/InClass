{
  "nbformat": 4,
  "nbformat_minor": 0,
  "metadata": {
    "kernelspec": {
      "display_name": "Python [conda env:anaconda3-d2l] *",
      "language": "python",
      "name": "conda-env-anaconda3-d2l-py"
    },
    "language_info": {
      "codemirror_mode": {
        "name": "ipython",
        "version": 3
      },
      "file_extension": ".py",
      "mimetype": "text/x-python",
      "name": "python",
      "nbconvert_exporter": "python",
      "pygments_lexer": "ipython3",
      "version": "3.7.7"
    },
    "colab": {
      "name": "AutomobileBayes.ipynb",
      "provenance": [],
      "include_colab_link": true
    }
  },
  "cells": [
    {
      "cell_type": "markdown",
      "metadata": {
        "id": "view-in-github",
        "colab_type": "text"
      },
      "source": [
        "<a href=\"https://colab.research.google.com/github/usm-cos-432/InClass/blob/master/AutomobileBayes.ipynb\" target=\"_parent\"><img src=\"https://colab.research.google.com/assets/colab-badge.svg\" alt=\"Open In Colab\"/></a>"
      ]
    },
    {
      "cell_type": "markdown",
      "metadata": {
        "id": "-n_4ZdFznvi1",
        "colab_type": "text"
      },
      "source": [
        "### Did we just see a Ferrari in Maine ? \n",
        "\n",
        "You will be assessing the probability of seeing a Ferrari in Maine using Bayes theorem. We start by reviewing the example in the book and providing some code for the book's example. The expectation is that this code can be used to help you with the Ferrari sighting. This course will be making predications based on data and Bayes theorem gives us insight if we know something about the prior distribution about date. \n",
        "\n",
        "The basic intuition that drives this activity is the following : if someone said \"I just saw a Honda !\" ... well, we would not be that surprised. But, if they said, \"I just saw a Ferrari !\" ... we might be both surprised and skeptical. For those that do not know cars, Ferrari's are expensive, rare, italian sports cars (https://www.caranddriver.com/ferrari/f8-tributo). \n",
        "We start with the review of the material in the book"
      ]
    },
    {
      "cell_type": "markdown",
      "metadata": {
        "id": "L4gFED7xnvi2",
        "colab_type": "text"
      },
      "source": [
        "### Review of Bayes' theorem\n",
        "\n",
        "Using the definition of conditional probabilities, we can derive one of the most useful and celebrated equations in statistics: *Bayes' theorem*.\n",
        "It goes as follows.\n",
        "By construction, we have the *multiplication rule* that $P(H, D) = P(D \\mid H) P(H)$. By symmetry, this also holds for $P(H, D) = P(H \\mid D) P(D)$. Assume that $P(D) > 0$. Solving for one of the conditional variables we get\n",
        "\n",
        "$$P(H \\mid D) = \\frac{P(D \\mid H) P(H)}{P(D)}.$$\n",
        "\n",
        "Note that here we use the more compact notation where $P(H, D)$ is a *joint distribution* and $P(H \\mid D)$ is a *conditional distribution*. Such distributions can be evaluated for particular values $H = h, D=d$.\n"
      ]
    },
    {
      "cell_type": "markdown",
      "metadata": {
        "id": "C2-yDaX-nvi3",
        "colab_type": "text"
      },
      "source": [
        "\n",
        "We use the labeling (H,D) from the example in the book as it helps understand what is going on. We will also generalize the names of H and D to help you with this activity\n",
        "\n",
        "* H = the hypothesis; in this case H is the hypothesis that you have HIV, and !H is the hypothesis that you do not.\n",
        "* D = the datum; in this case D is the positive test result.\n",
        "* P(H) is the prior probability that someone has HIV, which was given in the problem as .0015.\n",
        "* P(D|H) is the probability of a positive test result GIVEN that you have HIV. This is also called the HIT RATE, and was given in the problem as 1.0.\n",
        "* P(D|!H) is the probability of a positive test result GIVEN that you do not have HIV. This is also called the FALSE ALARM rate, and was given as 0.01.\n",
        "  \n",
        "So, first, you must identify the Hypothesis, H, the Datum, D, and the probabilities of the Hypothesis prior to the test, and the hit rate and false alarm rates of the test.\n"
      ]
    },
    {
      "cell_type": "markdown",
      "metadata": {
        "id": "DFThsLVNnvi3",
        "colab_type": "text"
      },
      "source": [
        "### Review of the book's example : \n",
        "Assume that a doctor administers an AIDS test to a patient. This test is fairly accurate and it fails only with 1% probability if the patient is healthy but reporting him as diseased. Moreover,\n",
        "it never fails to detect HIV if the patient actually has it. We use $D_1$ to indicate the diagnosis ($1$ if positive and $0$ if negative) and $H$ to denote the HIV status ($1$ if positive and $0$ if negative).\n",
        "The table below lists such conditional probabilities.\n",
        "\n",
        ":Conditional probability of $P(D_1 \\mid H)$.\n",
        "\n",
        "| Conditional probability | $H=1$ | $H=0$ |\n",
        "|---|---|---|\n",
        "|$P(D_1 = 1 \\mid H)$|            1 |         0.01 |\n",
        "\n",
        "\n",
        "Let us work out the probability of the patient having AIDS if the test comes back positive, i.e.,  𝑃(𝐻=1∣𝐷1=1) . Obviously this is going to depend on how common the disease is, since it affects the number of false alarms. Assume that the population is quite healthy, e.g.,  𝑃(𝐻=1)=0.0015.\n",
        "\n",
        "\n",
        "\n",
        "$$\\begin{aligned}\n",
        "&P(D_1 = 1) \\\\\n",
        "=& P(D_1=1, H=0) + P(D_1=1, H=1)  \\\\\n",
        "=& P(D_1=1 \\mid H=0) P(H=0) + P(D_1=1 \\mid H=1) P(H=1) \\\\\n",
        "=& 0.011485.\n",
        "\\end{aligned}\n",
        "$$\n",
        "\n",
        "Thus, we get\n",
        "\n",
        "$$\\begin{aligned}\n",
        "&P(H = 1 \\mid D_1 = 1)\\\\ =& \\frac{P(D_1=1 \\mid H=1) P(H=1)}{P(D_1=1)} \\\\ =& 0.1306 \\end{aligned}.$$\n",
        "\n",
        "We write a small bit of code to replicate the above to help you with this activity"
      ]
    },
    {
      "cell_type": "code",
      "metadata": {
        "id": "kFMFe__xnvi4",
        "colab_type": "code",
        "colab": {}
      },
      "source": [
        "# What we are given\n",
        "P_D1_is_1_given_H_is_1 = 1\n",
        "P_D1_is_1_given_H_is_0 = 0.01\n",
        "P_H_is_1 = 0.0015\n",
        "\n",
        "# Now some calculations\n",
        "P_D1_is_1 = P_D1_is_1_given_H_is_0 * (1-P_H_is_1) + P_D1_is_1_given_H_is_1 * P_H_is_1\n",
        "print('Probability of a positive diagnosis among general population: ', P_D1_is_1)\n",
        "\n",
        "P_H_is_1_given_D1_is_1 = P_D1_is_1_given_H_is_1 * P_H_is_1/P_D1_is_1\n",
        "print('Probability of a positive diagnosis given positive test : ', P_H_is_1_given_D1_is_1)"
      ],
      "execution_count": null,
      "outputs": []
    },
    {
      "cell_type": "markdown",
      "metadata": {
        "id": "AKoZWNWKnvi9",
        "colab_type": "text"
      },
      "source": [
        "The second test described in the book has different characteristics and it is not as good as the first one, as shown in table below:\n",
        "\n",
        ":Conditional probability of $P(D_2 \\mid H)$.\n",
        "\n",
        "| Conditional probability | $H=1$ | $H=0$ |\n",
        "|---|---|---|\n",
        "|$P(D_2 = 1 \\mid H)$|            0.98 |         0.03 |\n",
        "\n",
        "Unfortunately, the second test comes back positive, too. Let us work out the requisite probabilities to invoke Bayes' theorem by assuming the conditional independence:\n",
        "\n",
        "$$\\begin{aligned}\n",
        "&P(D_1 = 1, D_2 = 1 \\mid H = 0) \\\\\n",
        "=& P(D_1 = 1 \\mid H = 0) P(D_2 = 1 \\mid H = 0)  \\\\\n",
        "=& 0.0003,\n",
        "\\end{aligned}\n",
        "$$\n",
        "\n",
        "$$\\begin{aligned}\n",
        "&P(D_1 = 1, D_2 = 1 \\mid H = 1) \\\\\n",
        "=& P(D_1 = 1 \\mid H = 1) P(D_2 = 1 \\mid H = 1)  \\\\\n",
        "=& 0.98.\n",
        "\\end{aligned}\n",
        "$$\n",
        "\n",
        "Now we can apply marginalization and the multiplication rule:\n",
        "\n",
        "$$\\begin{aligned}\n",
        "&P(D_1 = 1, D_2 = 1) \\\\\n",
        "=& P(D_1 = 1, D_2 = 1, H = 0) + P(D_1 = 1, D_2 = 1, H = 1)  \\\\\n",
        "=& P(D_1 = 1, D_2 = 1 \\mid H = 0)P(H=0) + P(D_1 = 1, D_2 = 1 \\mid H = 1)P(H=1)\\\\\n",
        "=& 0.00176955.\n",
        "\\end{aligned}\n",
        "$$\n",
        "\n",
        "In the end, the probability of the patient having AIDS given both positive tests is\n",
        "\n",
        "$$\\begin{aligned}\n",
        "&P(H = 1 \\mid D_1 = 1, D_2 = 1)\\\\\n",
        "=& \\frac{P(D_1 = 1, D_2 = 1 \\mid H=1) P(H=1)}{P(D_1 = 1, D_2 = 1)} \\\\\n",
        "=& 0.8307.\n",
        "\\end{aligned}\n",
        "$$\n",
        "\n",
        "Again, we write a small bit of code to replicate the above to help you with this activity"
      ]
    },
    {
      "cell_type": "code",
      "metadata": {
        "id": "pAiEFwuQnvi9",
        "colab_type": "code",
        "colab": {}
      },
      "source": [
        "# What we are given\n",
        "P_D2_is_1_given_H_is_1 = 0.98\n",
        "P_D2_is_1_given_H_is_0 = 0.03\n",
        "P_H_is_1 = 0.0015\n",
        "\n",
        "# Our calculations\n",
        "P_D1_is_1_D2_is_1_given_H_is_0 = P_D1_is_1_given_H_is_0 * P_D2_is_1_given_H_is_0\n",
        "print ('Both D are 1 and H is 0', P_D1_is_1_D2_is_1_given_H_is_0)\n",
        "P_D1_is_1_D2_is_1_given_H_is_1 = P_D1_is_1_given_H_is_1 * P_D2_is_1_given_H_is_1\n",
        "print ('Both D are 1 and H is 1', P_D1_is_1_D2_is_1_given_H_is_1)\n",
        "P_D1_is_1_D2_is_1 = P_D1_is_1_D2_is_1_given_H_is_0 * (1-P_H_is_1) + P_D1_is_1_D2_is_1_given_H_is_1 * P_H_is_1\n",
        "print ('Both Ds are 1 in general population test', P_D1_is_1_D2_is_1)\n",
        "P_H_is_1_given_D1_is_1_and_D2_is_1 = P_D1_is_1_D2_is_1_given_H_is_1 * P_H_is_1/P_D1_is_1_D2_is_1\n",
        "print ('Probability of H is 1 given both positive tests', P_H_is_1_given_D1_is_1_and_D2_is_1)"
      ],
      "execution_count": null,
      "outputs": []
    },
    {
      "cell_type": "markdown",
      "metadata": {
        "id": "eHXAE_E7nvjD",
        "colab_type": "text"
      },
      "source": [
        "### Did we see a Ferrari in Maine \n",
        "\n",
        "The data in the above problem was all packaged up and delivered to us. In this activity, you will need to calculate some of the key data points from a Maine automobile registration file. In particular, you will need to determine the total number of cars in Maine and the total number of Ferraris."
      ]
    },
    {
      "cell_type": "code",
      "metadata": {
        "id": "-qXp0YoLnvjD",
        "colab_type": "code",
        "colab": {}
      },
      "source": [
        "import pandas as pd\n",
        "import numpy as np"
      ],
      "execution_count": 3,
      "outputs": []
    },
    {
      "cell_type": "code",
      "metadata": {
        "id": "9NVo2XyLnvjG",
        "colab_type": "code",
        "colab": {}
      },
      "source": [
        "df = pd.read_csv(\"http://www.cs.usm.maine.edu/~macleod/courses/cos432/data/MaineVehicles.csv\")\n",
        "df.head()"
      ],
      "execution_count": null,
      "outputs": []
    },
    {
      "cell_type": "markdown",
      "metadata": {
        "id": "qz5QutcnnvjI",
        "colab_type": "text"
      },
      "source": [
        "Create a new Dataframe that drops all records that have missing data"
      ]
    },
    {
      "cell_type": "code",
      "metadata": {
        "id": "7TeY1PTDnvjJ",
        "colab_type": "code",
        "colab": {}
      },
      "source": [
        ""
      ],
      "execution_count": null,
      "outputs": []
    },
    {
      "cell_type": "markdown",
      "metadata": {
        "id": "7LrqXsHwnvjL",
        "colab_type": "text"
      },
      "source": [
        "Count the total number of cars in Maine (Hint: you can call the sum method on a column)"
      ]
    },
    {
      "cell_type": "code",
      "metadata": {
        "id": "jZ-mWK39nvjM",
        "colab_type": "code",
        "colab": {}
      },
      "source": [
        ""
      ],
      "execution_count": null,
      "outputs": []
    },
    {
      "cell_type": "markdown",
      "metadata": {
        "id": "y4Yhu9YvnvjP",
        "colab_type": "text"
      },
      "source": [
        "Now create a new Dataframe that only has Ferraris (Hint : you can use the Boolean indexing filtering technique described in the previous lecture). "
      ]
    },
    {
      "cell_type": "code",
      "metadata": {
        "id": "0yznmw0knvjQ",
        "colab_type": "code",
        "colab": {}
      },
      "source": [
        ""
      ],
      "execution_count": null,
      "outputs": []
    },
    {
      "cell_type": "markdown",
      "metadata": {
        "id": "8z-Bmp2dnvjT",
        "colab_type": "text"
      },
      "source": [
        "Now count the number of Ferrari's in Maine."
      ]
    },
    {
      "cell_type": "code",
      "metadata": {
        "id": "3RJQhsoSnvjT",
        "colab_type": "code",
        "colab": {}
      },
      "source": [
        ""
      ],
      "execution_count": null,
      "outputs": []
    },
    {
      "cell_type": "markdown",
      "metadata": {
        "id": "Ss6kreRonvjX",
        "colab_type": "text"
      },
      "source": [
        "The first car observer thinks they saw a Ferrari and they are fairly good at recognizing makes of cars. They can accurately recognize a Ferrari if they see one with 98% probabilty. But one percent of the time, they see a Ferrari where it really was some other model (there are other fancy low slung sports cars that look like a Ferrari)\n",
        "\n",
        "Calculate the probability that the first car observer really saw a Ferrari\n",
        "\n"
      ]
    },
    {
      "cell_type": "code",
      "metadata": {
        "id": "Y2T9VC6OnvjX",
        "colab_type": "code",
        "colab": {}
      },
      "source": [
        ""
      ],
      "execution_count": null,
      "outputs": []
    },
    {
      "cell_type": "markdown",
      "metadata": {
        "id": "xgaeSefNnvjZ",
        "colab_type": "text"
      },
      "source": [
        "Our second car observer also thinks they saw a Ferrari around the same time ! They are also fairly good at recognizing makes of cars and they can accurately recognize a Ferrari if they see one with 95% probabilty. But three percent of the time, they see a Ferrari where it really was some other model (there are other fancy low slung sports cars that look like a Ferrari)\n",
        "\n",
        "Calculate the probability that the car the two car observers saw was really a Ferrari"
      ]
    },
    {
      "cell_type": "code",
      "metadata": {
        "id": "ZLPNlwEZnvja",
        "colab_type": "code",
        "colab": {}
      },
      "source": [
        ""
      ],
      "execution_count": null,
      "outputs": []
    }
  ]
}